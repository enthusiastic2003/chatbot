{
 "cells": [
  {
   "cell_type": "code",
   "execution_count": 1,
   "metadata": {},
   "outputs": [],
   "source": [
    "import interface"
   ]
  },
  {
   "cell_type": "code",
   "execution_count": 2,
   "metadata": {},
   "outputs": [
    {
     "name": "stdout",
     "output_type": "stream",
     "text": [
      "Table created with columns for each aspect with this query: \n",
      "            id INTEGER PRIMARY KEY AUTOINCREMENT,\n",
      "            stock_symbol TEXT,\n",
      "            headline TEXT,\n",
      "            published_date TEXT,\n",
      "            url TEXT,\n",
      "            embedding BLOB,\n",
      "        Earnings REAL,\n",
      "Revenue REAL,\n",
      "Margins REAL,\n",
      "Dividend REAL,\n",
      "EBITDA REAL,\n",
      "Debt REAL,\n",
      "Sentiment REAL\n",
      "\n"
     ]
    }
   ],
   "source": [
    "obj = interface.NewsDatabase()"
   ]
  },
  {
   "cell_type": "code",
   "execution_count": 3,
   "metadata": {},
   "outputs": [],
   "source": [
    "a,b = obj.to_dataframe()"
   ]
  },
  {
   "cell_type": "code",
   "execution_count": 6,
   "metadata": {},
   "outputs": [
    {
     "data": {
      "text/plain": [
       "{'Earnings': {0: 0.46656620264053345},\n",
       " 'Revenue': {0: 0.5922127618239477},\n",
       " 'Margins': {0: 0.41299248806067873},\n",
       " 'Dividend': {0: 0.5484080463647842},\n",
       " 'EBITDA': {0: 0.6207635824879011},\n",
       " 'Debt': {0: 0.42050342361132304},\n",
       " 'Sentiment': {0: 0.30904716365742235},\n",
       " 'Trendlyne': {0: 0.125},\n",
       " 'stock_symbol': {0: 'ADANIPORTS.NS'},\n",
       " 'rating': {0: 0.0},\n",
       " 'verdict': {0: 0.0}}"
      ]
     },
     "execution_count": 6,
     "metadata": {},
     "output_type": "execute_result"
    }
   ],
   "source": [
    "obj.get_values_by_ticker(\"ADANIPORTS.NS\")"
   ]
  }
 ],
 "metadata": {
  "kernelspec": {
   "display_name": "fuckmylife",
   "language": "python",
   "name": "python3"
  },
  "language_info": {
   "codemirror_mode": {
    "name": "ipython",
    "version": 3
   },
   "file_extension": ".py",
   "mimetype": "text/x-python",
   "name": "python",
   "nbconvert_exporter": "python",
   "pygments_lexer": "ipython3",
   "version": "3.12.7"
  }
 },
 "nbformat": 4,
 "nbformat_minor": 2
}
